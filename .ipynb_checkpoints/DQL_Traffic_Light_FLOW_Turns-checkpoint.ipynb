{
 "cells": [
  {
   "cell_type": "markdown",
   "metadata": {},
   "source": [
    "# Deep Reinforcement Learning for the TrafficLightFlow Environment\n"
   ]
  },
  {
   "cell_type": "code",
   "execution_count": 1,
   "metadata": {},
   "outputs": [],
   "source": [
    "# Install packages\n",
    "import gym\n",
    "import copy\n",
    "import torch\n",
    "from torch.autograd import Variable\n",
    "import random\n",
    "import matplotlib.pyplot as plt\n",
    "from PIL import Image\n",
    "from IPython.display import clear_output\n",
    "import math\n",
    "import torchvision.transforms as T\n",
    "import numpy as np\n",
    "from TrafficLightDoubleLane import *\n",
    "\n",
    "import time"
   ]
  },
  {
   "cell_type": "markdown",
   "metadata": {},
   "source": [
    "## Environment\n",
    "\n",
    "This is a Flow environment based on Sumo. We just used 1x1 intersection, thus immitating a very simple traffic light intersection. Environment has some InFlow parameters defined, which decide how to inject traffic into the environment in each episode.\n",
    "\n",
    "\n",
    "All Vehicles are trying to immitate human behavior, and are not intelligent. Only traffic light is RL controlled."
   ]
  },
  {
   "cell_type": "code",
   "execution_count": 2,
   "metadata": {},
   "outputs": [
    {
     "name": "stdout",
     "output_type": "stream",
     "text": [
      "{'bot0_0': [(['bot0_0', 'bot0_1'], 0.5), (['bot0_0', 'right1_0'], 0.5)], 'top0_1': [(['top0_1', 'top0_0'], 0.5), (['top0_1', 'left0_0'], 0.5)], 'left1_0': [(['left1_0', 'left0_0'], 0.5), (['left1_0', 'bot0_1'], 0.5)], 'right0_0': [(['right0_0', 'right1_0'], 0.5), (['right0_0', 'top0_0'], 0.5)]}\n",
      "(139,)\n"
     ]
    },
    {
     "name": "stderr",
     "output_type": "stream",
     "text": [
      "/Users/mayankgupta/opt/anaconda3/envs/flow/lib/python3.6/site-packages/gym/logger.py:30: UserWarning: \u001b[33mWARN: Box bound precision lowered by casting to float32\u001b[0m\n",
      "  warnings.warn(colorize('%s: %s'%('WARN', msg % args), 'yellow'))\n"
     ]
    }
   ],
   "source": [
    "# env = gym.envs.make(\"CartPole-v1\")\n",
    "InFlowProbs = (0.05, 0.05,0.15,0.15)\n",
    "env = GetTrafficLightEnv(InFlowProbs, render=False,evaluate=False)\n",
    "print(env.observation_space.shape)"
   ]
  },
  {
   "cell_type": "markdown",
   "metadata": {},
   "source": [
    "## Plotting Function\n",
    "\n",
    "This function will make it possible to analyze how the agent learns over time. The resulting plot consists of two subplots. The first one plots the total reward the agent accumulates over time, while the other plot shows a histogram of the agent's total rewards for the last 50 episodes. "
   ]
  },
  {
   "cell_type": "code",
   "execution_count": 3,
   "metadata": {},
   "outputs": [],
   "source": [
    "def plot_res(values, title=''):   \n",
    "    ''' Plot the reward curve and histogram of results over time.'''\n",
    "    # Update the window after each episode\n",
    "    clear_output(wait=True)\n",
    "    \n",
    "    # Define the figure\n",
    "    f, ax = plt.subplots(nrows=1, ncols=2, figsize=(12,5))\n",
    "    f.suptitle(title)\n",
    "    ax[0].plot(values, label='score per run')\n",
    "    ax[0].axhline(-200, c='red',ls='--', label='goal')\n",
    "    ax[0].set_xlabel('Episodes')\n",
    "    ax[0].set_ylabel('Reward')\n",
    "    x = range(len(values))\n",
    "    ax[0].legend()\n",
    "    # Calculate the trend\n",
    "    try:\n",
    "        z = np.polyfit(x, values, 1)\n",
    "        p = np.poly1d(z)\n",
    "        ax[0].plot(x,p(x),\"--\", label='trend')\n",
    "    except:\n",
    "        print('')\n",
    "    \n",
    "    # Plot the histogram of results\n",
    "    ax[1].hist(values[-50:])\n",
    "    ax[1].axvline(-200, c='red', label='goal')\n",
    "    ax[1].set_xlabel('Scores per Last 50 Episodes')\n",
    "    ax[1].set_ylabel('Frequency')\n",
    "    ax[1].legend()\n",
    "    plt.show()"
   ]
  },
  {
   "cell_type": "markdown",
   "metadata": {},
   "source": [
    "### Parameters"
   ]
  },
  {
   "cell_type": "code",
   "execution_count": 4,
   "metadata": {},
   "outputs": [],
   "source": [
    "# Number of states\n",
    "n_state = env.observation_space.shape[0]\n",
    "# Number of actions\n",
    "n_action = env.action_space.n\n",
    "# Number of episodes\n",
    "episodes = 1000\n",
    "# Number of hidden nodes in the DQN\n",
    "n_hidden = 50\n",
    "# Learning rate\n",
    "lr = 0.001"
   ]
  },
  {
   "cell_type": "markdown",
   "metadata": {},
   "source": [
    "## Static Search\n",
    "\n",
    "Before implementing any deep learning approaches, I wrote a simple strategy where the action is staticly choosen, light will be green for 30s straight in each direction. This approach will serve as a baseline for other strategies and will make it easier to understand how to work with the agent using the Open AI Gym environment."
   ]
  },
  {
   "cell_type": "code",
   "execution_count": 5,
   "metadata": {},
   "outputs": [],
   "source": [
    "def static_search(env, episodes, \n",
    "                  title='Static Strategy'):\n",
    "    \"\"\" Static strategy implementation.\"\"\"\n",
    "    final = []\n",
    "    for episode in range(episodes):\n",
    "        state = env.reset()\n",
    "        done = False\n",
    "        total = 0\n",
    "        t = 0\n",
    "        while not done:\n",
    "            t+=1\n",
    "            # Sample random actions\n",
    "            #action = env.action_space.sample()\n",
    "            action = t%20 == 0\n",
    "            # Take action and extract results\n",
    "            next_state, reward, done, _ = env.step(action)\n",
    "            # Update reward\n",
    "            total += reward\n",
    "            if done:\n",
    "                break\n",
    "        # Add to the final reward\n",
    "        final.append(total)\n",
    "        print(\"episode: {}, total reward: {}\".format(episode, total))\n",
    "        plot_res(final,title)\n",
    "    return final"
   ]
  },
  {
   "cell_type": "code",
   "execution_count": null,
   "metadata": {},
   "outputs": [],
   "source": [
    "# Get static policy results\n",
    "#\n",
    "\n",
    "static_s = static_search(env, 20)"
   ]
  },
  {
   "cell_type": "markdown",
   "metadata": {},
   "source": [
    "The plot above presents the static strategy."
   ]
  },
  {
   "cell_type": "markdown",
   "metadata": {},
   "source": [
    "## Deep Q Learning\n",
    "\n",
    "The main idea behind Q-learning is that we have a function $Q: State \\times Action \\rightarrow \\mathbb{R}$, which can tell the agent what actions will result in what rewards. If we know the value of Q, it is possible to construct a policy that maximizes rewards:\n",
    "\n",
    "\\begin{align}\\pi(s) = \\arg\\!\\max_a \\ Q(s, a)\\end{align}\n",
    "\n",
    "However, in the real world, we don't have access to full information, that's why we need to come up with ways of approximating Q. One traditional method is creating a lookup table where the values of Q are updated after each of the agent's actions. However, this approach is slow and does not scale to large action and state spaces. Since neural networks are universal function approximators, I will train a network that can approximate $Q$.\n",
    "\n",
    "The DQL class implementation consists of a simple neural network implemented in PyTorch that has two main methods--predict and update. The network takes the agent's state as an input and returns the Q values for each of the actions. The maximum Q value is selected by the agent to perform the next action.\n"
   ]
  },
  {
   "cell_type": "code",
   "execution_count": null,
   "metadata": {},
   "outputs": [],
   "source": [
    "class DQN():\n",
    "    ''' Deep Q Neural Network class. '''\n",
    "    def __init__(self, state_dim, action_dim, hidden_dim=64, lr=0.05):\n",
    "            self.criterion = torch.nn.MSELoss()\n",
    "            self.model = torch.nn.Sequential(\n",
    "                            torch.nn.Linear(state_dim, hidden_dim),\n",
    "                            torch.nn.LeakyReLU(),\n",
    "                            torch.nn.Linear(hidden_dim, hidden_dim*2),\n",
    "                            torch.nn.LeakyReLU(),\n",
    "                            torch.nn.Linear(hidden_dim*2, action_dim)\n",
    "                    )\n",
    "            print('new dqn initialized')\n",
    "            self.optimizer = torch.optim.Adam(self.model.parameters(), lr)\n",
    "\n",
    "\n",
    "\n",
    "    def update(self, state, y):\n",
    "        \"\"\"Update the weights of the network given a training sample. \"\"\"\n",
    "        y_pred = self.model(torch.Tensor(state))\n",
    "        loss = self.criterion(y_pred, Variable(torch.Tensor(y)))\n",
    "        self.optimizer.zero_grad()\n",
    "        loss.backward()\n",
    "        self.optimizer.step()\n",
    "\n",
    "\n",
    "    def predict(self, state):\n",
    "        \"\"\" Compute Q values for all actions using the DQL. \"\"\"\n",
    "        with torch.no_grad():\n",
    "            return self.model(torch.Tensor(state))\n",
    "\n",
    "        "
   ]
  },
  {
   "cell_type": "markdown",
   "metadata": {},
   "source": [
    "## Prediction\n",
    "Here we will define helper methods to Save and Load a trained model into Disk."
   ]
  },
  {
   "cell_type": "code",
   "execution_count": null,
   "metadata": {},
   "outputs": [],
   "source": [
    "def SaveModel(dqnModel, name):\n",
    "    torch.save(dqnModel.model.state_dict(), name)\n",
    "\n",
    "def LoadModel(dqnModel, name):\n",
    "    dqnModel.model.load_state_dict(torch.load(name))\n",
    "    return dqnModel\n"
   ]
  },
  {
   "cell_type": "code",
   "execution_count": null,
   "metadata": {},
   "outputs": [],
   "source": [
    "def prediction(model):\n",
    "    \"\"\" Prediction of a pytorch model\"\"\"\n",
    "    episode = 10\n",
    "    InFlowProbs = (0.15, 0.1,0.15,0.1)\n",
    "    env2 = GetTrafficLightEnv(InFlowProbs, render=True,evaluate=True)\n",
    "    final = []\n",
    "    for episode in range(episodes):\n",
    "        state = env2.reset()\n",
    "        done = False\n",
    "        total = 0\n",
    "        t = 0\n",
    "        while not done:\n",
    "            t+=1\n",
    "            # Sample random actions\n",
    "            \n",
    "            q_values = model.predict(state)\n",
    "            action = torch.argmax(q_values).item()\n",
    "            \n",
    "            # Take action and extract results\n",
    "            next_state, reward, done, _ = env2.step(action)\n",
    "            state = next_state\n",
    "            \n",
    "            # Update reward\n",
    "            total += reward\n",
    "            if done:\n",
    "                break\n",
    "\n",
    "        # Add to the final reward\n",
    "        final.append(total)\n",
    "        print(\"episode: {}, total reward: {}\".format(episode, total))\n",
    "        plot_res(final,'Prediction')\n",
    "    return final"
   ]
  },
  {
   "cell_type": "markdown",
   "metadata": {},
   "source": [
    "The q_learning function is the main loop for all the algorithms that follow. \n",
    "It has many parameters, namely:\n",
    "\n",
    "- Env represents the Open Ai Gym environment that we want to solve (ex: CartPole.)\n",
    "- Episodes stand for the number of games we want to play (from the beginning until the end.)\n",
    "- Gamma is a discounting factor that is multiplied by future rewards to dampen these rewards' effect on the agent. It is designed to make future rewards worth less than immediate rewards.\n",
    "- Epsilon represents the proportion of random actions relative to actions that are informed by existing \"knowledge\" that the agent accumulates during the episode. Before playing the game, the agent doesn't have any experience, so it is common to set epsilon to higher values and then gradually decrease its value.\n",
    "- Eps_decay parameter indicates the speed at which the epsilon decreases as the agent learns. 0.99 comes from the original DQN paper.\n",
    "\n",
    "I will explain other parameters later on when we will get to the corresponding agents.\n",
    "The most straightforward agent updates its Q-values based on its most recent observation. It doesn't have any memory, but it learns by first exploring the environment and the gradually decreasing its epsilon value to make informed decisions:"
   ]
  },
  {
   "cell_type": "code",
   "execution_count": null,
   "metadata": {},
   "outputs": [],
   "source": [
    "def q_learning(env, model, episodes, gamma=0.9, \n",
    "               epsilon=0.3, eps_decay=0.99,\n",
    "               replay=False, replay_size=64, \n",
    "               title = 'DQL', double=False, \n",
    "               n_update=10, soft=False,max_memory_size=10000, verbose=True):\n",
    "    \"\"\"Deep Q Learning algorithm using the DQN. \"\"\"\n",
    "    final = []\n",
    "    memory = []\n",
    "    episode_i=0\n",
    "    sum_total_replay_time=0\n",
    "    for episode in range(episodes):\n",
    "        episode_i+=1\n",
    "        if double and not soft:\n",
    "            # Update target network every n_update steps\n",
    "            if episode % n_update == 0:\n",
    "                model.target_update()\n",
    "        if double and soft:\n",
    "            model.target_update()\n",
    "        \n",
    "        # Reset state\n",
    "        state = env.reset()\n",
    "        done = False\n",
    "        total = 0\n",
    "        \n",
    "        while not done:\n",
    "            # Implement greedy search policy to explore the state space\n",
    "            if random.random() < epsilon:\n",
    "                action = env.action_space.sample()\n",
    "            else:\n",
    "                q_values = model.predict(state)\n",
    "                action = torch.argmax(q_values).item()\n",
    "            \n",
    "            # Take action and add reward to total\n",
    "            next_state, reward, done, _ = env.step(action)\n",
    "            \n",
    "            # Update total and memory\n",
    "            total += reward\n",
    "            memory.append((state, action, next_state, reward, done))\n",
    "            if (len(memory) == max_memory_size):\n",
    "                memory.pop(0)\n",
    "            q_values = model.predict(state).tolist()\n",
    "             \n",
    "            if done:\n",
    "                if not replay:\n",
    "                    q_values[action] = reward\n",
    "                    # Update network weights\n",
    "                    model.update(state, q_values)\n",
    "                break\n",
    "\n",
    "            if replay:\n",
    "                t0=time.time()\n",
    "                # Update network weights using replay memory\n",
    "                model.replay(memory, replay_size, gamma)\n",
    "                t1=time.time()\n",
    "                sum_total_replay_time+=(t1-t0)\n",
    "            else: \n",
    "                # Update network weights using the last step only\n",
    "                q_values_next = model.predict(next_state)\n",
    "                q_values[action] = reward + gamma * torch.max(q_values_next).item()\n",
    "                model.update(state, q_values)\n",
    "\n",
    "            state = next_state\n",
    "        \n",
    "        # Update epsilon\n",
    "        epsilon = max(epsilon * eps_decay, 0.01)\n",
    "        final.append(total)\n",
    "        plot_res(final, title)\n",
    "        \n",
    "        if episode_i %100 == 0 or episode_i ==1:\n",
    "            SaveModel(model, f'{title}_{episode_i}.pkl')\n",
    "            \n",
    "        if verbose:\n",
    "            print(\"episode: {}, total reward: {}\".format(episode_i, total))\n",
    "            if replay:\n",
    "                print(\"Average replay time:\", sum_total_replay_time/episode_i)\n",
    "    \n",
    "    plot_res(final, title)\n",
    "    env.close()\n",
    "    return final"
   ]
  },
  {
   "cell_type": "code",
   "execution_count": null,
   "metadata": {},
   "outputs": [],
   "source": [
    "# # Get DQN results\n",
    "# simple_dqn = DQN(n_state, n_action, n_hidden, lr)\n",
    "# simple = q_learning(env, simple_dqn, episodes, gamma=.9, epsilon=0.3, title='simple_dqn')"
   ]
  },
  {
   "cell_type": "markdown",
   "metadata": {},
   "source": [
    "The graph above shows that the performance of the agent has significantly improved compare to Static Agent."
   ]
  },
  {
   "cell_type": "markdown",
   "metadata": {},
   "source": [
    "## Replay\n",
    "\n",
    "The approximation of Q using one sample at a time is not very effective. The graph above is a nice illustration of that. The network managed to achieve a much better performance compared to a random agent. However, it couldn't get to the threshold line of 195 steps. I implemented experience replay to improve network stability and make sure previous experiences are not discarded but used in training.\n",
    "\n",
    "Experience replay stores the agent's experiences in memory. Batches of experiences are randomly sampled from memory and are used to train the neural network. Such learning consists of two phases--gaining experience and updating the model. The size of the replay controls the number of experiences that are used for the network update. Memory is an array that stores the agent's state, reward, and action, as well as whether the action finished the game and the next state.\n",
    "\n"
   ]
  },
  {
   "cell_type": "code",
   "execution_count": null,
   "metadata": {},
   "outputs": [],
   "source": [
    "# Expand DQL class with a replay function.\n",
    "class DQN_replay(DQN):\n",
    "    #old replay function\n",
    "    #def replay(self, memory, size, gamma=0.9):\n",
    "        #\"\"\" Add experience replay to the DQN network class. \"\"\"\n",
    "        # Make sure the memory is big enough\n",
    "        #if len(memory) >= size:\n",
    "            #states = []\n",
    "            #targets = []\n",
    "            # Sample a batch of experiences from the agent's memory\n",
    "            #batch = random.sample(memory, size)\n",
    "            \n",
    "            # Extract information from the data\n",
    "            #for state, action, next_state, reward, done in batch:\n",
    "                #states.append(state)\n",
    "                # Predict q_values\n",
    "                #q_values = self.predict(state).tolist()\n",
    "                #if done:\n",
    "                    #q_values[action] = reward\n",
    "                #else:\n",
    "                    #q_values_next = self.predict(next_state)\n",
    "                    #q_values[action] = reward + gamma * torch.max(q_values_next).item()\n",
    "     \n",
    "                #targets.append(q_values)\n",
    "\n",
    "            #self.update(states, targets)\n",
    "    \n",
    "    #new replay function\n",
    "    def replay(self, memory, size, gamma=0.9):\n",
    "        \"\"\"New replay function\"\"\"\n",
    "        #Try to improve replay speed\n",
    "        if len(memory)>=size:\n",
    "            batch = random.sample(memory,size)\n",
    "            batch_t = list(map(list, zip(*batch))) #Transpose batch list\n",
    "            states = batch_t[0]\n",
    "            actions = batch_t[1]\n",
    "            next_states = batch_t[2]\n",
    "            rewards = batch_t[3]\n",
    "            is_dones = batch_t[4]\n",
    "        \n",
    "            states = torch.Tensor(states)\n",
    "            actions_tensor = torch.Tensor(actions)\n",
    "            next_states = torch.Tensor(next_states)\n",
    "            rewards = torch.Tensor(rewards)\n",
    "            is_dones_tensor = torch.Tensor(is_dones)\n",
    "        \n",
    "            is_dones_indices = torch.where(is_dones_tensor==True)[0]\n",
    "        \n",
    "            all_q_values = self.model(states) # predicted q_values of all states\n",
    "            all_q_values_next = self.model(next_states)\n",
    "            #Update q values\n",
    "            all_q_values[range(len(all_q_values)),actions]=rewards+gamma*torch.max(all_q_values_next, axis=1).values\n",
    "            all_q_values[is_dones_indices.tolist(), actions_tensor[is_dones].tolist()]=rewards[is_dones_indices.tolist()]\n",
    "        \n",
    "            \n",
    "            self.update(states.tolist(), all_q_values.tolist())"
   ]
  },
  {
   "cell_type": "markdown",
   "metadata": {},
   "source": [
    "### replay using old replay function"
   ]
  },
  {
   "cell_type": "code",
   "execution_count": null,
   "metadata": {},
   "outputs": [],
   "source": [
    "# Get replay results\n",
    "# dqn_replay = DQN_replay(n_state, n_action, n_hidden, lr)\n",
    "# replay = q_learning(env, dqn_replay, \n",
    "#                     episodes, gamma=.9, \n",
    "#                     epsilon=0.2, replay=True, \n",
    "#                     title='DQL with Replay')"
   ]
  },
  {
   "cell_type": "markdown",
   "metadata": {},
   "source": [
    "### replay using new replay function"
   ]
  },
  {
   "cell_type": "code",
   "execution_count": null,
   "metadata": {
    "scrolled": true
   },
   "outputs": [],
   "source": [
    "# Get replay results\n",
    "dqn_replay = DQN_replay(n_state, n_action, n_hidden, lr)\n",
    "replay = q_learning(env, dqn_replay, \n",
    "                    episodes, gamma=.9, \n",
    "                    epsilon=0.3, replay=True, \n",
    "                    title='DQL_Replay')\n"
   ]
  },
  {
   "cell_type": "code",
   "execution_count": null,
   "metadata": {},
   "outputs": [],
   "source": [
    "# print(dqn_replay.model.state_dict())"
   ]
  },
  {
   "cell_type": "code",
   "execution_count": null,
   "metadata": {},
   "outputs": [],
   "source": [
    "# dqn_replay_loaded = DQN_replay(n_state, n_action, n_hidden, lr)\n",
    "# dqn_replay_loaded = LoadModel(dqn_replay_loaded, 'dqn_replay_1.pkl')\n",
    "# #print(dqn_replay.model.state_dict())\n",
    "# prediction(dqn_replay_loaded)"
   ]
  },
  {
   "cell_type": "markdown",
   "metadata": {},
   "source": [
    "As expected, the neural network with the replay seems to performing better and quickly converging. as It's sample efficiency is better."
   ]
  },
  {
   "attachments": {
    "image.png": {
     "image/png": "[encoded data removed]"
    }
   },
   "cell_type": "markdown",
   "metadata": {},
   "source": [
    "## Double Q Learning\n",
    "\n",
    "Traditional Deep Q Learning tends to overestimate the reward, which leads to unstable training and lower quality policy. Let's consider the equation for the Q value:\n",
    "![image.png](attachment:image.png)\n",
    "The last part of the equation takes the estimate of the maximum value. This procedure results in systematic overestimation, which introduces a maximization bias. Since Q-learning involves learning estimates from estimates, such overestimation is especially worrying.\n",
    "\n",
    "To avoid such a situation, I will define a new target network. The Q values will be taken from this new network, which is meant to reflect the state of the main DQN. However, it doesn't have identical weights because it's only updated after a certain number of episodes. This idea has been first introduced in Hasselt et al., 2015.\n",
    "The addition of the target network might slow down the training since the target network is not continuously updated. However, it should have a more robust performance over time.\n",
    "\n",
    "n_update parameter specifies the interval, after which the target network should be updated."
   ]
  },
  {
   "cell_type": "code",
   "execution_count": null,
   "metadata": {},
   "outputs": [],
   "source": [
    "class DQN_double(DQN):\n",
    "    def __init__(self, state_dim, action_dim, hidden_dim, lr):\n",
    "        super().__init__(state_dim, action_dim, hidden_dim, lr)\n",
    "        self.target = copy.deepcopy(self.model)\n",
    "        \n",
    "    def target_predict(self, s):\n",
    "        ''' Use target network to make predicitons.'''\n",
    "        with torch.no_grad():\n",
    "            return self.target(torch.Tensor(s))\n",
    "        \n",
    "    def target_update(self):\n",
    "        ''' Update target network with the model weights.'''\n",
    "        self.target.load_state_dict(self.model.state_dict())\n",
    "        \n",
    "    def replay(self, memory, size, gamma=1.0):\n",
    "        ''' Add experience replay to the DQL network class.'''\n",
    "        if len(memory) >= size:\n",
    "            # Sample experiences from the agent's memory\n",
    "            data = random.sample(memory, size)\n",
    "            states = []\n",
    "            targets = []\n",
    "            # Extract datapoints from the data\n",
    "            for state, action, next_state, reward, done in data:\n",
    "                states.append(state)\n",
    "                q_values = self.predict(state).tolist()\n",
    "                if done:\n",
    "                    q_values[action] = reward\n",
    "                else:\n",
    "                    # The only difference between the simple replay is in this line\n",
    "                    # It ensures that next q values are predicted with the target network.\n",
    "                    q_values_next = self.target_predict(next_state)\n",
    "                    q_values[action] = reward + gamma * torch.max(q_values_next).item()\n",
    "\n",
    "                targets.append(q_values)\n",
    "\n",
    "            self.update(states, targets)"
   ]
  },
  {
   "cell_type": "code",
   "execution_count": null,
   "metadata": {},
   "outputs": [],
   "source": [
    "# Get replay results\n",
    "dqn_double = DQN_double(n_state, n_action, n_hidden, lr)\n",
    "double =  q_learning(env, dqn_double, episodes, gamma=.9, \n",
    "                    epsilon=0.3, replay=True, double=True,\n",
    "                    title='DDQL_Replay', n_update=10)\n"
   ]
  },
  {
   "cell_type": "code",
   "execution_count": null,
   "metadata": {},
   "outputs": [],
   "source": [
    "# print(dqn_double.model.state_dict())\n",
    "# dqn_double_loaded = DQN_double(n_state, n_action, n_hidden, lr)\n",
    "# dqn_double_loaded = LoadModel(dqn_double_loaded, 'dqn_double_500.pkl')\n",
    "# print(dqn_double_loaded.model.state_dict())"
   ]
  },
  {
   "cell_type": "code",
   "execution_count": null,
   "metadata": {},
   "outputs": [],
   "source": [
    "dqn_double_loaded = DQN_double(n_state, n_action, n_hidden, lr)\n",
    "dqn_double_loaded = LoadModel(dqn_double_loaded, 'dqn_double_1.pkl')\n",
    "prediction(dqn_double_loaded)"
   ]
  },
  {
   "cell_type": "markdown",
   "metadata": {},
   "source": [
    "Double DQL with replay has similar performance. It can be happening because our current environement is not too much complex, or non liner system and that's why Double Queue us not making much difference."
   ]
  },
  {
   "cell_type": "markdown",
   "metadata": {},
   "source": [
    "## Soft Target Update\n",
    "The method used to update the target network implemented above was introduced in the original DQN paper. In this section, we will explore another well-established method of updating the target network weights. Instead of updating weights after a certain number of steps, we will incrementally update the target network after every run using the following formula:\n",
    "\n",
    "target_weights = target_weights * (1-TAU) + model_weights * TAU\n",
    "\n",
    "where 0 < TAU < 1\n",
    "\n",
    "This method of updating the target network is known as “soft target network updates” and was introduced in  Lillicrap et al., 2016. Method implementation is shown below:"
   ]
  },
  {
   "cell_type": "code",
   "execution_count": null,
   "metadata": {},
   "outputs": [],
   "source": [
    "class DQN_double_soft(DQN_double):\n",
    "    def target_update(self, TAU=0.1):\n",
    "        ''' Update the targer gradually. '''\n",
    "        # Extract parameters  \n",
    "        model_params = self.model.named_parameters()\n",
    "        target_params = self.target.named_parameters()\n",
    "        \n",
    "        updated_params = dict(target_params)\n",
    "\n",
    "        for model_name, model_param in model_params:\n",
    "            if model_name in target_params:\n",
    "                # Update parameter\n",
    "                updated_params[model_name].data.copy_((TAU)*model_param.data + (1-TAU)*target_params[model_param].data)\n",
    "\n",
    "        self.target.load_state_dict(updated_params)"
   ]
  },
  {
   "cell_type": "code",
   "execution_count": null,
   "metadata": {},
   "outputs": [],
   "source": [
    "dqn_double_soft = DQN_double_soft(n_state, n_action, n_hidden, lr)\n",
    "double =  q_learning(env, dqn_double_soft, episodes, gamma=.9, \n",
    "                    epsilon=0.2, replay=True, double=True,\n",
    "                    title='DDQL_soft_Replay', n_update=10, soft=True)"
   ]
  },
  {
   "cell_type": "markdown",
   "metadata": {},
   "source": [
    "The network with soft target updates not seems to be performing good on this problem. as, there is lot of noise in each SGD udpate for this problem.\n",
    "\n",
    "## Conclusion\n",
    "\n"
   ]
  },
  {
   "cell_type": "markdown",
   "metadata": {},
   "source": [
    "## References:\n",
    "\n",
    "(1) Reinforcement Q-Learning from Scratch in Python with OpenAI Gym. (2019). Learndatasci.com. Retrieved 9 December 2019, from https://www.learndatasci.com/tutorials/reinforcement-q-learning-scratch-python-openai-gym/\n",
    "\n",
    "(2) Paszke, A., (2019). Reinforcement Learning (DQN) tutorial. Retrieved from: https://pytorch.org/tutorials/intermediate/reinforcement_q_learning.html\n",
    "\n",
    "(3) Lillicrap, T. P., Hunt, J. J., Pritzel, A., Heess, N., Erez, T., Tassa, Y., ... & Wierstra, D. (2015). Continuous control with deep reinforcement learning. arXiv preprint arXiv:1509.02971.\n",
    "\n",
    "(4) Van Hasselt, H., Guez, A., & Silver, D. (2016, March). Deep reinforcement learning with double q-learning. In Thirtieth AAAI conference on artificial intelligence.\n",
    "\n",
    "(5) Wang, Z., Schaul, T., Hessel, M., Van Hasselt, H., Lanctot, M., & De Freitas, N. (2015). Dueling network architectures for deep reinforcement learning. arXiv preprint arXiv:1511.06581.\n",
    "\n",
    "(6) Double DQN Implementation to Solve OpenAI Gym’s CartPole v-0. (2019). Medium. Retrieved 20 December 2019, from https://medium.com/@leosimmons/double-dqn-implementation-to-solve-openai-gyms-cartpole-v-0-df554cd0614d"
   ]
  }
 ],
 "metadata": {
  "kernelspec": {
   "display_name": "Python 3",
   "language": "python",
   "name": "python3"
  },
  "language_info": {
   "codemirror_mode": {
    "name": "ipython",
    "version": 3
   },
   "file_extension": ".py",
   "mimetype": "text/x-python",
   "name": "python",
   "nbconvert_exporter": "python",
   "pygments_lexer": "ipython3",
   "version": "3.6.8"
  }
 },
 "nbformat": 4,
 "nbformat_minor": 1
}
